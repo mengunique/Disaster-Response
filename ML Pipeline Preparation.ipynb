{
 "cells": [
  {
   "cell_type": "markdown",
   "metadata": {},
   "source": [
    "# ML Pipeline Preparation\n",
    "Follow the instructions below to help you create your ML pipeline.\n",
    "### 1. Import libraries and load data from database.\n",
    "- Import Python libraries\n",
    "- Load dataset from database with [`read_sql_table`](https://pandas.pydata.org/pandas-docs/stable/generated/pandas.read_sql_table.html)\n",
    "- Define feature and target variables X and Y"
   ]
  },
  {
   "cell_type": "code",
   "execution_count": 1,
   "metadata": {},
   "outputs": [
    {
     "name": "stderr",
     "output_type": "stream",
     "text": [
      "[nltk_data] Downloading package punkt to\n",
      "[nltk_data]     C:\\Users\\g800575\\AppData\\Roaming\\nltk_data...\n",
      "[nltk_data]   Package punkt is already up-to-date!\n",
      "[nltk_data] Downloading package stopwords to\n",
      "[nltk_data]     C:\\Users\\g800575\\AppData\\Roaming\\nltk_data...\n",
      "[nltk_data]   Package stopwords is already up-to-date!\n",
      "[nltk_data] Downloading package wordnet to\n",
      "[nltk_data]     C:\\Users\\g800575\\AppData\\Roaming\\nltk_data...\n",
      "[nltk_data]   Package wordnet is already up-to-date!\n"
     ]
    }
   ],
   "source": [
    "# import libraries\n",
    "import numpy as np\n",
    "import pandas as pd\n",
    "from sqlalchemy import create_engine\n",
    "\n",
    "import re\n",
    "import nltk\n",
    "nltk.download(['punkt', 'stopwords', 'wordnet'])\n",
    "from nltk.tokenize import word_tokenize\n",
    "from nltk.stem import WordNetLemmatizer\n",
    "from nltk.corpus import stopwords\n",
    "\n",
    "from sklearn.pipeline import Pipeline, FeatureUnion\n",
    "from sklearn.feature_extraction.text import CountVectorizer, TfidfTransformer\n",
    "from sklearn.multioutput import MultiOutputClassifier\n",
    "from sklearn.ensemble import RandomForestClassifier\n",
    "from sklearn.naive_bayes import BernoulliNB\n",
    "from sklearn.preprocessing import FunctionTransformer\n",
    "\n",
    "from sklearn.model_selection import train_test_split, GridSearchCV\n",
    "from sklearn.metrics import classification_report, fbeta_score, make_scorer\n",
    "from sklearn.metrics import accuracy_score, precision_score, recall_score\n",
    "\n",
    "import pickle"
   ]
  },
  {
   "cell_type": "code",
   "execution_count": 2,
   "metadata": {
    "scrolled": false
   },
   "outputs": [],
   "source": [
    "# load data from database\n",
    "engine = create_engine('sqlite:///data/DisasterResponse.db')\n",
    "#print (engine.table_names())\n",
    "df = pd.read_sql_table('messages', engine)\n",
    "X = df['message']\n",
    "Y = df.iloc[:,4:]\n",
    "category_names = Y.columns.tolist()"
   ]
  },
  {
   "cell_type": "markdown",
   "metadata": {},
   "source": [
    "### 2. Write a tokenization function to process your text data"
   ]
  },
  {
   "cell_type": "code",
   "execution_count": 3,
   "metadata": {},
   "outputs": [],
   "source": [
    "def tokenize(text):\n",
    "    # normalize case and remove punctuation\n",
    "    text = re.sub(r\"[^a-zA-Z0-9]\", \" \", text.lower())\n",
    "    tokens = word_tokenize(text)\n",
    "\n",
    "    # lemmatize and remove stop words\n",
    "    stop_words = stopwords.words(\"english\")\n",
    "    lemmatizer = WordNetLemmatizer()\n",
    "    tokens = [lemmatizer.lemmatize(word) for word in tokens if word not in stop_words]\n",
    "    \n",
    "    return tokens"
   ]
  },
  {
   "cell_type": "markdown",
   "metadata": {},
   "source": [
    "### 3. Build a machine learning pipeline\n",
    "This machine pipeline should take in the `message` column as input and output classification results on the other 36 categories in the dataset. You may find the [MultiOutputClassifier](http://scikit-learn.org/stable/modules/generated/sklearn.multioutput.MultiOutputClassifier.html) helpful for predicting multiple target variables."
   ]
  },
  {
   "cell_type": "code",
   "execution_count": 4,
   "metadata": {},
   "outputs": [],
   "source": [
    "# Note our data is highly imbalanced (very few positive classes for most categories)\n",
    "# So setting class_weight='balanced'\n",
    "pipeline = Pipeline([\n",
    "    ('vect', CountVectorizer(tokenizer=tokenize)),\n",
    "    ('tfidf', TfidfTransformer()),\n",
    "    ('clf', MultiOutputClassifier(RandomForestClassifier(class_weight='balanced')))\n",
    "])"
   ]
  },
  {
   "cell_type": "markdown",
   "metadata": {},
   "source": [
    "### 4. Train pipeline\n",
    "- Split data into train and test sets\n",
    "- Train pipeline"
   ]
  },
  {
   "cell_type": "code",
   "execution_count": 5,
   "metadata": {
    "scrolled": true
   },
   "outputs": [],
   "source": [
    "X_train, X_test, Y_train, Y_test = train_test_split(X, Y, test_size=0.2)"
   ]
  },
  {
   "cell_type": "code",
   "execution_count": 6,
   "metadata": {
    "scrolled": true
   },
   "outputs": [
    {
     "data": {
      "text/plain": [
       "Pipeline(memory=None,\n",
       "     steps=[('vect', CountVectorizer(analyzer='word', binary=False, decode_error='strict',\n",
       "        dtype=<class 'numpy.int64'>, encoding='utf-8', input='content',\n",
       "        lowercase=True, max_df=1.0, max_features=None, min_df=1,\n",
       "        ngram_range=(1, 1), preprocessor=None, stop_words=None,\n",
       "        strip..._score=False,\n",
       "            random_state=None, verbose=0, warm_start=False),\n",
       "           n_jobs=None))])"
      ]
     },
     "execution_count": 6,
     "metadata": {},
     "output_type": "execute_result"
    }
   ],
   "source": [
    "import warnings\n",
    "warnings.filterwarnings(\"ignore\")\n",
    "\n",
    "pipeline.fit(X_train, Y_train)"
   ]
  },
  {
   "cell_type": "markdown",
   "metadata": {},
   "source": [
    "### 5. Test your model\n",
    "Report the f1 score, precision and recall for each output category of the dataset. You can do this by iterating through the columns and calling sklearn's `classification_report` on each."
   ]
  },
  {
   "cell_type": "code",
   "execution_count": 7,
   "metadata": {},
   "outputs": [],
   "source": [
    "Y_pred = pipeline.predict(X_test)"
   ]
  },
  {
   "cell_type": "code",
   "execution_count": 8,
   "metadata": {
    "scrolled": true
   },
   "outputs": [
    {
     "name": "stdout",
     "output_type": "stream",
     "text": [
      "related\n",
      "              precision    recall  f1-score   support\n",
      "\n",
      "           0       0.62      0.51      0.56      1222\n",
      "           1       0.86      0.90      0.88      3984\n",
      "\n",
      "   micro avg       0.81      0.81      0.81      5206\n",
      "   macro avg       0.74      0.71      0.72      5206\n",
      "weighted avg       0.80      0.81      0.81      5206\n",
      "\n",
      "request\n",
      "              precision    recall  f1-score   support\n",
      "\n",
      "           0       0.90      0.97      0.93      4332\n",
      "           1       0.77      0.46      0.58       874\n",
      "\n",
      "   micro avg       0.89      0.89      0.89      5206\n",
      "   macro avg       0.84      0.72      0.76      5206\n",
      "weighted avg       0.88      0.89      0.87      5206\n",
      "\n",
      "offer\n",
      "              precision    recall  f1-score   support\n",
      "\n",
      "           0       1.00      1.00      1.00      5182\n",
      "           1       0.00      0.00      0.00        24\n",
      "\n",
      "   micro avg       1.00      1.00      1.00      5206\n",
      "   macro avg       0.50      0.50      0.50      5206\n",
      "weighted avg       0.99      1.00      0.99      5206\n",
      "\n",
      "aid_related\n",
      "              precision    recall  f1-score   support\n",
      "\n",
      "           0       0.76      0.84      0.80      3014\n",
      "           1       0.75      0.64      0.69      2192\n",
      "\n",
      "   micro avg       0.76      0.76      0.76      5206\n",
      "   macro avg       0.75      0.74      0.74      5206\n",
      "weighted avg       0.76      0.76      0.75      5206\n",
      "\n",
      "medical_help\n",
      "              precision    recall  f1-score   support\n",
      "\n",
      "           0       0.93      1.00      0.96      4791\n",
      "           1       0.63      0.08      0.14       415\n",
      "\n",
      "   micro avg       0.92      0.92      0.92      5206\n",
      "   macro avg       0.78      0.54      0.55      5206\n",
      "weighted avg       0.90      0.92      0.89      5206\n",
      "\n",
      "medical_products\n",
      "              precision    recall  f1-score   support\n",
      "\n",
      "           0       0.95      1.00      0.98      4944\n",
      "           1       0.82      0.09      0.16       262\n",
      "\n",
      "   micro avg       0.95      0.95      0.95      5206\n",
      "   macro avg       0.89      0.54      0.57      5206\n",
      "weighted avg       0.95      0.95      0.93      5206\n",
      "\n",
      "search_and_rescue\n",
      "              precision    recall  f1-score   support\n",
      "\n",
      "           0       0.97      1.00      0.98      5042\n",
      "           1       0.75      0.05      0.10       164\n",
      "\n",
      "   micro avg       0.97      0.97      0.97      5206\n",
      "   macro avg       0.86      0.53      0.54      5206\n",
      "weighted avg       0.96      0.97      0.96      5206\n",
      "\n",
      "security\n",
      "              precision    recall  f1-score   support\n",
      "\n",
      "           0       0.98      1.00      0.99      5096\n",
      "           1       0.00      0.00      0.00       110\n",
      "\n",
      "   micro avg       0.98      0.98      0.98      5206\n",
      "   macro avg       0.49      0.50      0.49      5206\n",
      "weighted avg       0.96      0.98      0.97      5206\n",
      "\n",
      "military\n",
      "              precision    recall  f1-score   support\n",
      "\n",
      "           0       0.97      1.00      0.99      5042\n",
      "           1       0.86      0.12      0.20       164\n",
      "\n",
      "   micro avg       0.97      0.97      0.97      5206\n",
      "   macro avg       0.92      0.56      0.59      5206\n",
      "weighted avg       0.97      0.97      0.96      5206\n",
      "\n",
      "child_alone\n",
      "              precision    recall  f1-score   support\n",
      "\n",
      "           0       1.00      1.00      1.00      5206\n",
      "\n",
      "   micro avg       1.00      1.00      1.00      5206\n",
      "   macro avg       1.00      1.00      1.00      5206\n",
      "weighted avg       1.00      1.00      1.00      5206\n",
      "\n",
      "water\n",
      "              precision    recall  f1-score   support\n",
      "\n",
      "           0       0.95      1.00      0.97      4868\n",
      "           1       0.84      0.31      0.46       338\n",
      "\n",
      "   micro avg       0.95      0.95      0.95      5206\n",
      "   macro avg       0.90      0.65      0.72      5206\n",
      "weighted avg       0.95      0.95      0.94      5206\n",
      "\n",
      "food\n",
      "              precision    recall  f1-score   support\n",
      "\n",
      "           0       0.93      0.99      0.96      4610\n",
      "           1       0.86      0.46      0.60       596\n",
      "\n",
      "   micro avg       0.93      0.93      0.93      5206\n",
      "   macro avg       0.90      0.72      0.78      5206\n",
      "weighted avg       0.93      0.93      0.92      5206\n",
      "\n",
      "shelter\n",
      "              precision    recall  f1-score   support\n",
      "\n",
      "           0       0.93      0.99      0.96      4726\n",
      "           1       0.80      0.22      0.34       480\n",
      "\n",
      "   micro avg       0.92      0.92      0.92      5206\n",
      "   macro avg       0.86      0.61      0.65      5206\n",
      "weighted avg       0.91      0.92      0.90      5206\n",
      "\n",
      "clothing\n",
      "              precision    recall  f1-score   support\n",
      "\n",
      "           0       0.98      1.00      0.99      5117\n",
      "           1       0.82      0.10      0.18        89\n",
      "\n",
      "   micro avg       0.98      0.98      0.98      5206\n",
      "   macro avg       0.90      0.55      0.59      5206\n",
      "weighted avg       0.98      0.98      0.98      5206\n",
      "\n",
      "money\n",
      "              precision    recall  f1-score   support\n",
      "\n",
      "           0       0.98      1.00      0.99      5092\n",
      "           1       1.00      0.02      0.03       114\n",
      "\n",
      "   micro avg       0.98      0.98      0.98      5206\n",
      "   macro avg       0.99      0.51      0.51      5206\n",
      "weighted avg       0.98      0.98      0.97      5206\n",
      "\n",
      "missing_people\n",
      "              precision    recall  f1-score   support\n",
      "\n",
      "           0       0.99      1.00      0.99      5142\n",
      "           1       1.00      0.02      0.03        64\n",
      "\n",
      "   micro avg       0.99      0.99      0.99      5206\n",
      "   macro avg       0.99      0.51      0.51      5206\n",
      "weighted avg       0.99      0.99      0.98      5206\n",
      "\n",
      "refugees\n",
      "              precision    recall  f1-score   support\n",
      "\n",
      "           0       0.96      1.00      0.98      5012\n",
      "           1       0.67      0.04      0.08       194\n",
      "\n",
      "   micro avg       0.96      0.96      0.96      5206\n",
      "   macro avg       0.82      0.52      0.53      5206\n",
      "weighted avg       0.95      0.96      0.95      5206\n",
      "\n",
      "death\n",
      "              precision    recall  f1-score   support\n",
      "\n",
      "           0       0.96      1.00      0.98      4963\n",
      "           1       0.82      0.15      0.25       243\n",
      "\n",
      "   micro avg       0.96      0.96      0.96      5206\n",
      "   macro avg       0.89      0.57      0.61      5206\n",
      "weighted avg       0.95      0.96      0.94      5206\n",
      "\n",
      "other_aid\n",
      "              precision    recall  f1-score   support\n",
      "\n",
      "           0       0.87      0.99      0.93      4497\n",
      "           1       0.63      0.09      0.16       709\n",
      "\n",
      "   micro avg       0.87      0.87      0.87      5206\n",
      "   macro avg       0.75      0.54      0.54      5206\n",
      "weighted avg       0.84      0.87      0.82      5206\n",
      "\n",
      "infrastructure_related\n",
      "              precision    recall  f1-score   support\n",
      "\n",
      "           0       0.93      1.00      0.96      4837\n",
      "           1       0.17      0.00      0.01       369\n",
      "\n",
      "   micro avg       0.93      0.93      0.93      5206\n",
      "   macro avg       0.55      0.50      0.48      5206\n",
      "weighted avg       0.88      0.93      0.89      5206\n",
      "\n",
      "transport\n",
      "              precision    recall  f1-score   support\n",
      "\n",
      "           0       0.96      1.00      0.98      4975\n",
      "           1       0.62      0.04      0.08       231\n",
      "\n",
      "   micro avg       0.96      0.96      0.96      5206\n",
      "   macro avg       0.79      0.52      0.53      5206\n",
      "weighted avg       0.94      0.96      0.94      5206\n",
      "\n",
      "buildings\n",
      "              precision    recall  f1-score   support\n",
      "\n",
      "           0       0.95      1.00      0.97      4932\n",
      "           1       0.70      0.08      0.15       274\n",
      "\n",
      "   micro avg       0.95      0.95      0.95      5206\n",
      "   macro avg       0.82      0.54      0.56      5206\n",
      "weighted avg       0.94      0.95      0.93      5206\n",
      "\n",
      "electricity\n",
      "              precision    recall  f1-score   support\n",
      "\n",
      "           0       0.98      1.00      0.99      5096\n",
      "           1       0.50      0.02      0.04       110\n",
      "\n",
      "   micro avg       0.98      0.98      0.98      5206\n",
      "   macro avg       0.74      0.51      0.51      5206\n",
      "weighted avg       0.97      0.98      0.97      5206\n",
      "\n",
      "tools\n",
      "              precision    recall  f1-score   support\n",
      "\n",
      "           0       0.99      1.00      1.00      5167\n",
      "           1       0.00      0.00      0.00        39\n",
      "\n",
      "   micro avg       0.99      0.99      0.99      5206\n",
      "   macro avg       0.50      0.50      0.50      5206\n",
      "weighted avg       0.99      0.99      0.99      5206\n",
      "\n",
      "hospitals\n",
      "              precision    recall  f1-score   support\n",
      "\n",
      "           0       0.99      1.00      0.99      5148\n",
      "           1       0.00      0.00      0.00        58\n",
      "\n",
      "   micro avg       0.99      0.99      0.99      5206\n",
      "   macro avg       0.49      0.50      0.50      5206\n",
      "weighted avg       0.98      0.99      0.98      5206\n",
      "\n",
      "shops\n",
      "              precision    recall  f1-score   support\n",
      "\n",
      "           0       1.00      1.00      1.00      5186\n",
      "           1       0.00      0.00      0.00        20\n",
      "\n",
      "   micro avg       1.00      1.00      1.00      5206\n",
      "   macro avg       0.50      0.50      0.50      5206\n",
      "weighted avg       0.99      1.00      0.99      5206\n",
      "\n",
      "aid_centers\n"
     ]
    },
    {
     "name": "stdout",
     "output_type": "stream",
     "text": [
      "              precision    recall  f1-score   support\n",
      "\n",
      "           0       0.99      1.00      0.99      5134\n",
      "           1       0.00      0.00      0.00        72\n",
      "\n",
      "   micro avg       0.99      0.99      0.99      5206\n",
      "   macro avg       0.49      0.50      0.50      5206\n",
      "weighted avg       0.97      0.99      0.98      5206\n",
      "\n",
      "other_infrastructure\n",
      "              precision    recall  f1-score   support\n",
      "\n",
      "           0       0.95      1.00      0.98      4968\n",
      "           1       0.25      0.00      0.01       238\n",
      "\n",
      "   micro avg       0.95      0.95      0.95      5206\n",
      "   macro avg       0.60      0.50      0.49      5206\n",
      "weighted avg       0.92      0.95      0.93      5206\n",
      "\n",
      "weather_related\n",
      "              precision    recall  f1-score   support\n",
      "\n",
      "           0       0.86      0.95      0.90      3697\n",
      "           1       0.83      0.62      0.71      1509\n",
      "\n",
      "   micro avg       0.85      0.85      0.85      5206\n",
      "   macro avg       0.84      0.78      0.80      5206\n",
      "weighted avg       0.85      0.85      0.84      5206\n",
      "\n",
      "floods\n",
      "              precision    recall  f1-score   support\n",
      "\n",
      "           0       0.93      1.00      0.96      4747\n",
      "           1       0.86      0.19      0.32       459\n",
      "\n",
      "   micro avg       0.93      0.93      0.93      5206\n",
      "   macro avg       0.90      0.60      0.64      5206\n",
      "weighted avg       0.92      0.93      0.90      5206\n",
      "\n",
      "storm\n",
      "              precision    recall  f1-score   support\n",
      "\n",
      "           0       0.94      0.99      0.96      4714\n",
      "           1       0.74      0.40      0.52       492\n",
      "\n",
      "   micro avg       0.93      0.93      0.93      5206\n",
      "   macro avg       0.84      0.69      0.74      5206\n",
      "weighted avg       0.92      0.93      0.92      5206\n",
      "\n",
      "fire\n",
      "              precision    recall  f1-score   support\n",
      "\n",
      "           0       0.99      1.00      0.99      5144\n",
      "           1       0.00      0.00      0.00        62\n",
      "\n",
      "   micro avg       0.99      0.99      0.99      5206\n",
      "   macro avg       0.49      0.50      0.50      5206\n",
      "weighted avg       0.98      0.99      0.98      5206\n",
      "\n",
      "earthquake\n",
      "              precision    recall  f1-score   support\n",
      "\n",
      "           0       0.95      0.99      0.97      4678\n",
      "           1       0.88      0.52      0.65       528\n",
      "\n",
      "   micro avg       0.94      0.94      0.94      5206\n",
      "   macro avg       0.91      0.76      0.81      5206\n",
      "weighted avg       0.94      0.94      0.94      5206\n",
      "\n",
      "cold\n",
      "              precision    recall  f1-score   support\n",
      "\n",
      "           0       0.98      1.00      0.99      5099\n",
      "           1       0.70      0.07      0.12       107\n",
      "\n",
      "   micro avg       0.98      0.98      0.98      5206\n",
      "   macro avg       0.84      0.53      0.55      5206\n",
      "weighted avg       0.97      0.98      0.97      5206\n",
      "\n",
      "other_weather\n",
      "              precision    recall  f1-score   support\n",
      "\n",
      "           0       0.95      1.00      0.97      4933\n",
      "           1       0.53      0.03      0.06       273\n",
      "\n",
      "   micro avg       0.95      0.95      0.95      5206\n",
      "   macro avg       0.74      0.52      0.52      5206\n",
      "weighted avg       0.93      0.95      0.93      5206\n",
      "\n",
      "direct_report\n",
      "              precision    recall  f1-score   support\n",
      "\n",
      "           0       0.86      0.96      0.91      4179\n",
      "           1       0.72      0.38      0.50      1027\n",
      "\n",
      "   micro avg       0.85      0.85      0.85      5206\n",
      "   macro avg       0.79      0.67      0.71      5206\n",
      "weighted avg       0.84      0.85      0.83      5206\n",
      "\n"
     ]
    }
   ],
   "source": [
    "for i in range(36):\n",
    "    print(category_names[i])\n",
    "    cat_Y_test = Y_test.iloc[:,i].values\n",
    "    cat_Y_pred = Y_pred[:,i]\n",
    "    print(classification_report(cat_Y_test, cat_Y_pred))"
   ]
  },
  {
   "cell_type": "markdown",
   "metadata": {},
   "source": [
    "### 6. Improve your model\n",
    "Use grid search to find better parameters. "
   ]
  },
  {
   "cell_type": "code",
   "execution_count": 9,
   "metadata": {},
   "outputs": [],
   "source": [
    "# The default scoring for MultiOutputClassifier considers a prediction correct\n",
    "# only if all categories of a test sample are predicted correctly. This is not what we want here.\n",
    "\n",
    "# In this particular disaster response case, we want the messages to be sent to as-many-as-possible\n",
    "# relevant parties (so they can work on the problems). Hence the recall for each category is more important.\n",
    "# So creating a new scorer for the grid search."
   ]
  },
  {
   "cell_type": "code",
   "execution_count": 10,
   "metadata": {},
   "outputs": [],
   "source": [
    "# Define a new scorer for grid search\n",
    "scorer = make_scorer(fbeta_score, beta=2, average='micro')"
   ]
  },
  {
   "cell_type": "code",
   "execution_count": 11,
   "metadata": {},
   "outputs": [],
   "source": [
    "parameters = {\n",
    "    'clf__estimator__n_estimators': [50, 100],\n",
    "    'clf__estimator__min_samples_split': [3, 4]\n",
    "}\n",
    "\n",
    "cv = GridSearchCV(pipeline, param_grid=parameters, scoring=scorer, verbose=3)"
   ]
  },
  {
   "cell_type": "markdown",
   "metadata": {},
   "source": [
    "### 7. Test your model\n",
    "Show the accuracy, precision, and recall of the tuned model.  \n",
    "\n",
    "Since this project focuses on code quality, process, and  pipelines, there is no minimum performance metric needed to pass. However, make sure to fine tune your models for accuracy, precision and recall to make your project stand out - especially for your portfolio!"
   ]
  },
  {
   "cell_type": "code",
   "execution_count": 12,
   "metadata": {
    "scrolled": false
   },
   "outputs": [
    {
     "name": "stdout",
     "output_type": "stream",
     "text": [
      "Fitting 3 folds for each of 4 candidates, totalling 12 fits\n",
      "[CV] clf__estimator__min_samples_split=3, clf__estimator__n_estimators=50 \n"
     ]
    },
    {
     "name": "stderr",
     "output_type": "stream",
     "text": [
      "[Parallel(n_jobs=1)]: Using backend SequentialBackend with 1 concurrent workers.\n"
     ]
    },
    {
     "name": "stdout",
     "output_type": "stream",
     "text": [
      "[CV]  clf__estimator__min_samples_split=3, clf__estimator__n_estimators=50, score=0.5922313015599954, total= 2.0min\n",
      "[CV] clf__estimator__min_samples_split=3, clf__estimator__n_estimators=50 \n"
     ]
    },
    {
     "name": "stderr",
     "output_type": "stream",
     "text": [
      "[Parallel(n_jobs=1)]: Done   1 out of   1 | elapsed:  2.3min remaining:    0.0s\n"
     ]
    },
    {
     "name": "stdout",
     "output_type": "stream",
     "text": [
      "[CV]  clf__estimator__min_samples_split=3, clf__estimator__n_estimators=50, score=0.5831194890891201, total= 2.1min\n",
      "[CV] clf__estimator__min_samples_split=3, clf__estimator__n_estimators=50 \n"
     ]
    },
    {
     "name": "stderr",
     "output_type": "stream",
     "text": [
      "[Parallel(n_jobs=1)]: Done   2 out of   2 | elapsed:  4.7min remaining:    0.0s\n"
     ]
    },
    {
     "name": "stdout",
     "output_type": "stream",
     "text": [
      "[CV]  clf__estimator__min_samples_split=3, clf__estimator__n_estimators=50, score=0.5843166009011007, total= 1.8min\n",
      "[CV] clf__estimator__min_samples_split=3, clf__estimator__n_estimators=100 \n",
      "[CV]  clf__estimator__min_samples_split=3, clf__estimator__n_estimators=100, score=0.5943967076258345, total= 3.5min\n",
      "[CV] clf__estimator__min_samples_split=3, clf__estimator__n_estimators=100 \n",
      "[CV]  clf__estimator__min_samples_split=3, clf__estimator__n_estimators=100, score=0.5846361706234318, total= 3.7min\n",
      "[CV] clf__estimator__min_samples_split=3, clf__estimator__n_estimators=100 \n",
      "[CV]  clf__estimator__min_samples_split=3, clf__estimator__n_estimators=100, score=0.5840071877807727, total= 3.5min\n",
      "[CV] clf__estimator__min_samples_split=4, clf__estimator__n_estimators=50 \n",
      "[CV]  clf__estimator__min_samples_split=4, clf__estimator__n_estimators=50, score=0.610724396013495, total= 1.7min\n",
      "[CV] clf__estimator__min_samples_split=4, clf__estimator__n_estimators=50 \n",
      "[CV]  clf__estimator__min_samples_split=4, clf__estimator__n_estimators=50, score=0.5983434471254783, total= 1.7min\n",
      "[CV] clf__estimator__min_samples_split=4, clf__estimator__n_estimators=50 \n",
      "[CV]  clf__estimator__min_samples_split=4, clf__estimator__n_estimators=50, score=0.5993677252478805, total= 1.7min\n",
      "[CV] clf__estimator__min_samples_split=4, clf__estimator__n_estimators=100 \n",
      "[CV]  clf__estimator__min_samples_split=4, clf__estimator__n_estimators=100, score=0.6090145223177423, total= 3.3min\n",
      "[CV] clf__estimator__min_samples_split=4, clf__estimator__n_estimators=100 \n",
      "[CV]  clf__estimator__min_samples_split=4, clf__estimator__n_estimators=100, score=0.5990604477254206, total= 3.2min\n",
      "[CV] clf__estimator__min_samples_split=4, clf__estimator__n_estimators=100 \n",
      "[CV]  clf__estimator__min_samples_split=4, clf__estimator__n_estimators=100, score=0.5960175886633768, total= 3.3min\n"
     ]
    },
    {
     "name": "stderr",
     "output_type": "stream",
     "text": [
      "[Parallel(n_jobs=1)]: Done  12 out of  12 | elapsed: 36.9min finished\n"
     ]
    },
    {
     "data": {
      "text/plain": [
       "GridSearchCV(cv='warn', error_score='raise-deprecating',\n",
       "       estimator=Pipeline(memory=None,\n",
       "     steps=[('vect', CountVectorizer(analyzer='word', binary=False, decode_error='strict',\n",
       "        dtype=<class 'numpy.int64'>, encoding='utf-8', input='content',\n",
       "        lowercase=True, max_df=1.0, max_features=None, min_df=1,\n",
       "        ngram_range=(1, 1), preprocessor=None, stop_words=None,\n",
       "        strip..._score=False,\n",
       "            random_state=None, verbose=0, warm_start=False),\n",
       "           n_jobs=None))]),\n",
       "       fit_params=None, iid='warn', n_jobs=None,\n",
       "       param_grid={'clf__estimator__n_estimators': [50, 100], 'clf__estimator__min_samples_split': [3, 4]},\n",
       "       pre_dispatch='2*n_jobs', refit=True, return_train_score='warn',\n",
       "       scoring=make_scorer(fbeta_score, beta=2, average=micro), verbose=3)"
      ]
     },
     "execution_count": 12,
     "metadata": {},
     "output_type": "execute_result"
    }
   ],
   "source": [
    "cv.fit(X_train, Y_train)"
   ]
  },
  {
   "cell_type": "code",
   "execution_count": 13,
   "metadata": {
    "scrolled": true
   },
   "outputs": [],
   "source": [
    "Y_pred = cv.predict(X_test)"
   ]
  },
  {
   "cell_type": "code",
   "execution_count": 14,
   "metadata": {
    "scrolled": true
   },
   "outputs": [
    {
     "name": "stdout",
     "output_type": "stream",
     "text": [
      "related\n",
      "    Accuracy: 0.8312    % Precision: 0.8668    % Recall: 0.9209\n",
      "request\n",
      "    Accuracy: 0.9032    % Precision: 0.7447    % Recall: 0.6442\n",
      "offer\n",
      "    Accuracy: 0.9952    % Precision: 0.0000    % Recall: 0.0000\n",
      "aid_related\n",
      "    Accuracy: 0.7843    % Precision: 0.7347    % Recall: 0.7632\n",
      "medical_help\n",
      "    Accuracy: 0.9241    % Precision: 0.5694    % Recall: 0.1976\n",
      "medical_products\n",
      "    Accuracy: 0.9547    % Precision: 0.7500    % Recall: 0.1489\n",
      "search_and_rescue\n",
      "    Accuracy: 0.9702    % Precision: 0.7368    % Recall: 0.0854\n",
      "security\n",
      "    Accuracy: 0.9787    % Precision: 0.0000    % Recall: 0.0000\n",
      "military\n",
      "    Accuracy: 0.9721    % Precision: 0.6301    % Recall: 0.2805\n",
      "child_alone\n",
      "    Accuracy: 1.0000    % Precision: 0.0000    % Recall: 0.0000\n",
      "water\n",
      "    Accuracy: 0.9575    % Precision: 0.8128    % Recall: 0.4497\n",
      "food\n",
      "    Accuracy: 0.9418    % Precision: 0.8097    % Recall: 0.6426\n",
      "shelter\n",
      "    Accuracy: 0.9366    % Precision: 0.7907    % Recall: 0.4250\n",
      "clothing\n",
      "    Accuracy: 0.9848    % Precision: 0.7500    % Recall: 0.1685\n",
      "money\n",
      "    Accuracy: 0.9785    % Precision: 1.0000    % Recall: 0.0175\n",
      "missing_people\n",
      "    Accuracy: 0.9877    % Precision: 0.0000    % Recall: 0.0000\n",
      "refugees\n",
      "    Accuracy: 0.9635    % Precision: 0.6429    % Recall: 0.0464\n",
      "death\n",
      "    Accuracy: 0.9604    % Precision: 0.7846    % Recall: 0.2099\n",
      "other_aid\n",
      "    Accuracy: 0.8719    % Precision: 0.6235    % Recall: 0.1495\n",
      "infrastructure_related\n",
      "    Accuracy: 0.9291    % Precision: 0.5000    % Recall: 0.0054\n",
      "transport\n",
      "    Accuracy: 0.9579    % Precision: 0.6667    % Recall: 0.1039\n",
      "buildings\n",
      "    Accuracy: 0.9545    % Precision: 0.7467    % Recall: 0.2044\n",
      "electricity\n",
      "    Accuracy: 0.9794    % Precision: 0.7143    % Recall: 0.0455\n",
      "tools\n",
      "    Accuracy: 0.9925    % Precision: 0.0000    % Recall: 0.0000\n",
      "hospitals\n",
      "    Accuracy: 0.9889    % Precision: 0.0000    % Recall: 0.0000\n",
      "shops\n",
      "    Accuracy: 0.9962    % Precision: 0.0000    % Recall: 0.0000\n",
      "aid_centers\n",
      "    Accuracy: 0.9862    % Precision: 0.0000    % Recall: 0.0000\n",
      "other_infrastructure\n",
      "    Accuracy: 0.9537    % Precision: 0.0000    % Recall: 0.0000\n",
      "weather_related\n",
      "    Accuracy: 0.8776    % Precision: 0.8101    % Recall: 0.7548\n",
      "floods\n",
      "    Accuracy: 0.9456    % Precision: 0.8793    % Recall: 0.4444\n",
      "storm\n",
      "    Accuracy: 0.9387    % Precision: 0.7136    % Recall: 0.5874\n",
      "fire\n",
      "    Accuracy: 0.9883    % Precision: 0.6667    % Recall: 0.0323\n",
      "earthquake\n",
      "    Accuracy: 0.9616    % Precision: 0.8886    % Recall: 0.7102\n",
      "cold\n",
      "    Accuracy: 0.9808    % Precision: 0.6667    % Recall: 0.1308\n",
      "other_weather\n",
      "    Accuracy: 0.9487    % Precision: 0.6154    % Recall: 0.0586\n",
      "direct_report\n",
      "    Accuracy: 0.8567    % Precision: 0.6822    % Recall: 0.5122\n"
     ]
    }
   ],
   "source": [
    "for i in range(len(category_names)):\n",
    "    print(category_names[i])\n",
    "    cat_Y_test = Y_test.iloc[:,i].values\n",
    "    cat_Y_pred = Y_pred[:,i]\n",
    "\n",
    "    accuracy = accuracy_score(cat_Y_test, cat_Y_pred)\n",
    "    precision = precision_score(cat_Y_test, cat_Y_pred)\n",
    "    recall = recall_score(cat_Y_test, cat_Y_pred)\n",
    "    print(f'    Accuracy: {accuracy:.4f}    % Precision: {precision:.4f}    % Recall: {recall:.4f}')"
   ]
  },
  {
   "cell_type": "code",
   "execution_count": 15,
   "metadata": {},
   "outputs": [
    {
     "data": {
      "text/plain": [
       "{'clf__estimator__min_samples_split': 4, 'clf__estimator__n_estimators': 50}"
      ]
     },
     "execution_count": 15,
     "metadata": {},
     "output_type": "execute_result"
    }
   ],
   "source": [
    "cv.best_params_"
   ]
  },
  {
   "cell_type": "code",
   "execution_count": 16,
   "metadata": {
    "scrolled": true
   },
   "outputs": [
    {
     "data": {
      "text/plain": [
       "0.6028120215372157"
      ]
     },
     "execution_count": 16,
     "metadata": {},
     "output_type": "execute_result"
    }
   ],
   "source": [
    "cv.best_score_"
   ]
  },
  {
   "cell_type": "markdown",
   "metadata": {},
   "source": [
    "### 8. Try improving your model further. Here are a few ideas:\n",
    "* try other machine learning algorithms\n",
    "* add other features besides the TF-IDF"
   ]
  },
  {
   "cell_type": "code",
   "execution_count": 17,
   "metadata": {},
   "outputs": [],
   "source": [
    "# Try to add some extra features\n",
    "# https://www.quora.com/Natural-Language-Processing-What-are-the-possible-features-that-can-be-extracted-from-text\n",
    "# https://www.kaggle.com/shaz13/feature-engineering-for-nlp-classification\n",
    "\n",
    "# Compute word count\n",
    "def count_words(data):\n",
    "    \"\"\"Compute number of words\n",
    "    \n",
    "    Args:\n",
    "        data (Series or 1D-array): Text data.\n",
    "    \n",
    "    Returns:\n",
    "        NumPy 1D-arrary: Word count values for each text.\n",
    "    \"\"\"\n",
    "    return np.array([len(text.split()) for text in data]).reshape(-1, 1)"
   ]
  },
  {
   "cell_type": "code",
   "execution_count": 18,
   "metadata": {},
   "outputs": [],
   "source": [
    "# Try Naive Bayes algorithms (which is fast to train)\n",
    "pipeline = Pipeline([\n",
    "    ('features', FeatureUnion([\n",
    "        ('text_pipeline', Pipeline([\n",
    "            ('vect', CountVectorizer(tokenizer=tokenize)),\n",
    "            ('tfidf', TfidfTransformer())\n",
    "        ])),\n",
    "        ('wordcount', FunctionTransformer(count_words, validate=False))\n",
    "    ])),\n",
    "    ('clf', MultiOutputClassifier(BernoulliNB()))\n",
    "])"
   ]
  },
  {
   "cell_type": "code",
   "execution_count": 19,
   "metadata": {
    "scrolled": true
   },
   "outputs": [
    {
     "name": "stdout",
     "output_type": "stream",
     "text": [
      "Fitting 3 folds for each of 4 candidates, totalling 12 fits\n",
      "[CV] clf__estimator__alpha=0.01, features__text_pipeline__vect__ngram_range=(1, 1) \n"
     ]
    },
    {
     "name": "stderr",
     "output_type": "stream",
     "text": [
      "[Parallel(n_jobs=1)]: Using backend SequentialBackend with 1 concurrent workers.\n"
     ]
    },
    {
     "name": "stdout",
     "output_type": "stream",
     "text": [
      "[CV]  clf__estimator__alpha=0.01, features__text_pipeline__vect__ngram_range=(1, 1), score=0.5763066778101263, total=  15.6s\n",
      "[CV] clf__estimator__alpha=0.01, features__text_pipeline__vect__ngram_range=(1, 1) \n"
     ]
    },
    {
     "name": "stderr",
     "output_type": "stream",
     "text": [
      "[Parallel(n_jobs=1)]: Done   1 out of   1 | elapsed:   26.3s remaining:    0.0s\n"
     ]
    },
    {
     "name": "stdout",
     "output_type": "stream",
     "text": [
      "[CV]  clf__estimator__alpha=0.01, features__text_pipeline__vect__ngram_range=(1, 1), score=0.5654775354524996, total=  15.4s\n",
      "[CV] clf__estimator__alpha=0.01, features__text_pipeline__vect__ngram_range=(1, 1) \n"
     ]
    },
    {
     "name": "stderr",
     "output_type": "stream",
     "text": [
      "[Parallel(n_jobs=1)]: Done   2 out of   2 | elapsed:   52.0s remaining:    0.0s\n"
     ]
    },
    {
     "name": "stdout",
     "output_type": "stream",
     "text": [
      "[CV]  clf__estimator__alpha=0.01, features__text_pipeline__vect__ngram_range=(1, 1), score=0.5755063205110779, total=  15.2s\n",
      "[CV] clf__estimator__alpha=0.01, features__text_pipeline__vect__ngram_range=(1, 2) \n",
      "[CV]  clf__estimator__alpha=0.01, features__text_pipeline__vect__ngram_range=(1, 2), score=0.5477719677162669, total=  16.8s\n",
      "[CV] clf__estimator__alpha=0.01, features__text_pipeline__vect__ngram_range=(1, 2) \n",
      "[CV]  clf__estimator__alpha=0.01, features__text_pipeline__vect__ngram_range=(1, 2), score=0.5308442625259344, total=  16.8s\n",
      "[CV] clf__estimator__alpha=0.01, features__text_pipeline__vect__ngram_range=(1, 2) \n",
      "[CV]  clf__estimator__alpha=0.01, features__text_pipeline__vect__ngram_range=(1, 2), score=0.5367213083989378, total=  17.0s\n",
      "[CV] clf__estimator__alpha=0.1, features__text_pipeline__vect__ngram_range=(1, 1) \n",
      "[CV]  clf__estimator__alpha=0.1, features__text_pipeline__vect__ngram_range=(1, 1), score=0.5925794312476651, total=  15.1s\n",
      "[CV] clf__estimator__alpha=0.1, features__text_pipeline__vect__ngram_range=(1, 1) \n",
      "[CV]  clf__estimator__alpha=0.1, features__text_pipeline__vect__ngram_range=(1, 1), score=0.5708556991161582, total=  15.5s\n",
      "[CV] clf__estimator__alpha=0.1, features__text_pipeline__vect__ngram_range=(1, 1) \n",
      "[CV]  clf__estimator__alpha=0.1, features__text_pipeline__vect__ngram_range=(1, 1), score=0.5839958224919195, total=  15.0s\n",
      "[CV] clf__estimator__alpha=0.1, features__text_pipeline__vect__ngram_range=(1, 2) \n",
      "[CV]  clf__estimator__alpha=0.1, features__text_pipeline__vect__ngram_range=(1, 2), score=0.5085366568342091, total=  16.8s\n",
      "[CV] clf__estimator__alpha=0.1, features__text_pipeline__vect__ngram_range=(1, 2) \n",
      "[CV]  clf__estimator__alpha=0.1, features__text_pipeline__vect__ngram_range=(1, 2), score=0.48799241728163417, total=  17.5s\n",
      "[CV] clf__estimator__alpha=0.1, features__text_pipeline__vect__ngram_range=(1, 2) \n",
      "[CV]  clf__estimator__alpha=0.1, features__text_pipeline__vect__ngram_range=(1, 2), score=0.498129657732198, total=  16.6s\n"
     ]
    },
    {
     "name": "stderr",
     "output_type": "stream",
     "text": [
      "[Parallel(n_jobs=1)]: Done  12 out of  12 | elapsed:  5.4min finished\n"
     ]
    }
   ],
   "source": [
    "parameters = {\n",
    "    'features__text_pipeline__vect__ngram_range': [(1,1), (1,2)],\n",
    "    'clf__estimator__alpha': [0.01, 0.1],\n",
    "}\n",
    "\n",
    "cv = GridSearchCV(pipeline, param_grid=parameters, scoring=scorer, cv=3, verbose=3)\n",
    "\n",
    "cv.fit(X_train, Y_train)\n",
    "Y_pred = cv.predict(X_test)"
   ]
  },
  {
   "cell_type": "code",
   "execution_count": 20,
   "metadata": {},
   "outputs": [
    {
     "data": {
      "text/plain": [
       "{'clf__estimator__alpha': 0.1,\n",
       " 'features__text_pipeline__vect__ngram_range': (1, 1)}"
      ]
     },
     "execution_count": 20,
     "metadata": {},
     "output_type": "execute_result"
    }
   ],
   "source": [
    "cv.best_params_"
   ]
  },
  {
   "cell_type": "code",
   "execution_count": 21,
   "metadata": {},
   "outputs": [
    {
     "data": {
      "text/plain": [
       "0.5824769113413322"
      ]
     },
     "execution_count": 21,
     "metadata": {},
     "output_type": "execute_result"
    }
   ],
   "source": [
    "cv.best_score_"
   ]
  },
  {
   "cell_type": "code",
   "execution_count": 22,
   "metadata": {},
   "outputs": [
    {
     "name": "stdout",
     "output_type": "stream",
     "text": [
      "Custom fbeta score is 0.5943816176385127\n",
      "related\n",
      "    Accuracy: 0.7887    % Precision: 0.8970    % Recall: 0.8178\n",
      "request\n",
      "    Accuracy: 0.8225    % Precision: 0.4826    % Recall: 0.7918\n",
      "offer\n",
      "    Accuracy: 0.9937    % Precision: 0.0000    % Recall: 0.0000\n",
      "aid_related\n",
      "    Accuracy: 0.7516    % Precision: 0.7168    % Recall: 0.6779\n",
      "medical_help\n",
      "    Accuracy: 0.8955    % Precision: 0.3702    % Recall: 0.4434\n",
      "medical_products\n",
      "    Accuracy: 0.9280    % Precision: 0.3323    % Recall: 0.4275\n",
      "search_and_rescue\n",
      "    Accuracy: 0.9579    % Precision: 0.2650    % Recall: 0.1890\n",
      "security\n",
      "    Accuracy: 0.9697    % Precision: 0.1364    % Recall: 0.0818\n",
      "military\n",
      "    Accuracy: 0.9524    % Precision: 0.3521    % Recall: 0.6098\n",
      "child_alone\n",
      "    Accuracy: 1.0000    % Precision: 0.0000    % Recall: 0.0000\n",
      "water\n",
      "    Accuracy: 0.9351    % Precision: 0.5000    % Recall: 0.4911\n",
      "food\n",
      "    Accuracy: 0.9141    % Precision: 0.6200    % Recall: 0.6460\n",
      "shelter\n",
      "    Accuracy: 0.9024    % Precision: 0.4724    % Recall: 0.5000\n",
      "clothing\n",
      "    Accuracy: 0.9819    % Precision: 0.4627    % Recall: 0.3483\n",
      "money\n",
      "    Accuracy: 0.9666    % Precision: 0.2458    % Recall: 0.2544\n",
      "missing_people\n",
      "    Accuracy: 0.9769    % Precision: 0.0625    % Recall: 0.0625\n",
      "refugees\n",
      "    Accuracy: 0.9370    % Precision: 0.2298    % Recall: 0.2938\n",
      "death\n",
      "    Accuracy: 0.9349    % Precision: 0.3605    % Recall: 0.5103\n",
      "other_aid\n",
      "    Accuracy: 0.8315    % Precision: 0.3450    % Recall: 0.2638\n",
      "infrastructure_related\n",
      "    Accuracy: 0.8790    % Precision: 0.2181    % Recall: 0.2737\n",
      "transport\n",
      "    Accuracy: 0.9222    % Precision: 0.2441    % Recall: 0.3593\n",
      "buildings\n",
      "    Accuracy: 0.9201    % Precision: 0.2994    % Recall: 0.3869\n",
      "electricity\n",
      "    Accuracy: 0.9648    % Precision: 0.1933    % Recall: 0.2091\n",
      "tools\n",
      "    Accuracy: 0.9854    % Precision: 0.0488    % Recall: 0.0513\n",
      "hospitals\n",
      "    Accuracy: 0.9810    % Precision: 0.1273    % Recall: 0.1207\n",
      "shops\n",
      "    Accuracy: 0.9917    % Precision: 0.0741    % Recall: 0.1000\n",
      "aid_centers\n",
      "    Accuracy: 0.9750    % Precision: 0.0606    % Recall: 0.0556\n",
      "other_infrastructure\n",
      "    Accuracy: 0.9166    % Precision: 0.1975    % Recall: 0.2689\n",
      "weather_related\n",
      "    Accuracy: 0.8194    % Precision: 0.7048    % Recall: 0.6488\n",
      "floods\n",
      "    Accuracy: 0.8949    % Precision: 0.4288    % Recall: 0.5773\n",
      "storm\n",
      "    Accuracy: 0.9026    % Precision: 0.4872    % Recall: 0.5793\n",
      "fire\n",
      "    Accuracy: 0.9829    % Precision: 0.2353    % Recall: 0.1935\n",
      "earthquake\n",
      "    Accuracy: 0.9268    % Precision: 0.6574    % Recall: 0.5814\n",
      "cold\n",
      "    Accuracy: 0.9658    % Precision: 0.2585    % Recall: 0.3551\n",
      "other_weather\n",
      "    Accuracy: 0.9003    % Precision: 0.2029    % Recall: 0.3077\n",
      "direct_report\n",
      "    Accuracy: 0.7628    % Precision: 0.4406    % Recall: 0.7507\n"
     ]
    }
   ],
   "source": [
    "print('Custom fbeta score is {}'.format(fbeta_score(Y_test, Y_pred, beta=2, average='micro')))\n",
    "\n",
    "for i in range(len(category_names)):\n",
    "    print(category_names[i])\n",
    "    cat_Y_test = Y_test.iloc[:,i].values\n",
    "    cat_Y_pred = Y_pred[:,i]\n",
    "\n",
    "    accuracy = accuracy_score(cat_Y_test, cat_Y_pred)\n",
    "    precision = precision_score(cat_Y_test, cat_Y_pred)\n",
    "    recall = recall_score(cat_Y_test, cat_Y_pred)\n",
    "    print(f'    Accuracy: {accuracy:.4f}    % Precision: {precision:.4f}    % Recall: {recall:.4f}')"
   ]
  },
  {
   "cell_type": "markdown",
   "metadata": {},
   "source": [
    "### 9. Export your model as a pickle file"
   ]
  },
  {
   "cell_type": "code",
   "execution_count": 23,
   "metadata": {},
   "outputs": [],
   "source": [
    "model_filepath = 'models/classifier.pkl'\n",
    "pickle.dump(cv, open(model_filepath, 'wb'))"
   ]
  },
  {
   "cell_type": "markdown",
   "metadata": {},
   "source": [
    "### 10. Use this notebook to complete `train.py`\n",
    "Use the template file attached in the Resources folder to write a script that runs the steps above to create a database and export a model based on a new dataset specified by the user."
   ]
  },
  {
   "cell_type": "code",
   "execution_count": null,
   "metadata": {},
   "outputs": [],
   "source": []
  }
 ],
 "metadata": {
  "kernelspec": {
   "display_name": "Python 3",
   "language": "python",
   "name": "python3"
  },
  "language_info": {
   "codemirror_mode": {
    "name": "ipython",
    "version": 3
   },
   "file_extension": ".py",
   "mimetype": "text/x-python",
   "name": "python",
   "nbconvert_exporter": "python",
   "pygments_lexer": "ipython3",
   "version": "3.7.3"
  }
 },
 "nbformat": 4,
 "nbformat_minor": 2
}
